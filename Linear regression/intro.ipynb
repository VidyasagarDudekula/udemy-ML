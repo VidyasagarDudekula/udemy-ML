{
 "cells": [
  {
   "cell_type": "code",
   "execution_count": 2,
   "metadata": {},
   "outputs": [],
   "source": [
    "import pandas as pd\n",
    "import numpy as np\n",
    "import matplotlib.pyplot as plt"
   ]
  },
  {
   "cell_type": "code",
   "execution_count": 3,
   "metadata": {},
   "outputs": [],
   "source": [
    "#in this module we will look at the single feature linear regression or simple linear regression."
   ]
  },
  {
   "cell_type": "code",
   "execution_count": 4,
   "metadata": {},
   "outputs": [],
   "source": [
    "# the goal of the algorithm is to learn a linear model that predicts a y for an unseen x with minimum error."
   ]
  },
  {
   "cell_type": "code",
   "execution_count": 5,
   "metadata": {},
   "outputs": [],
   "source": [
    "#linear reggression can only work on the data if the relation between the input and output have linear.\n",
    "# it can approximate the linear relation between the input and output.\n",
    "#it can't approximate the quadratic or sinosidal relation between the input and output."
   ]
  },
  {
   "attachments": {},
   "cell_type": "markdown",
   "metadata": {},
   "source": [
    "Notaion\n",
    "\n",
    "m --> number of feature.\n",
    "\n",
    "n --> number of training example.\n",
    "\n",
    "X --> input data matrix of shape (n X m)\n",
    "\n",
    "Y --> target value (can be a real number)\n",
    "\n",
    "x(i), y(i) --> ith training example.\n",
    "\n",
    "theta --> weight (parameters)\n",
    "\n",
    "y_hat --> hypothesis (outputs a real number) more like a function output. --> predicted output of the model."
   ]
  },
  {
   "cell_type": "code",
   "execution_count": 6,
   "metadata": {},
   "outputs": [],
   "source": [
    "#theta is the weights of the model.\n",
    "# y = mx + c --> m and c are the parameters of the model or weights of the model.\n",
    "# y = theta1 x + theta0"
   ]
  },
  {
   "cell_type": "code",
   "execution_count": 7,
   "metadata": {},
   "outputs": [],
   "source": [
    "#y = mx + c --> is also a equation of the line.\n",
    "# m --> slope --> theta1\n",
    "# c --> intercept --> theta0"
   ]
  },
  {
   "attachments": {},
   "cell_type": "markdown",
   "metadata": {},
   "source": [
    "Hypothesis.\n",
    "\n",
    "* lets dive deep into hypothesis.\n",
    "\n",
    "* Lets assume the input is nX1 --> n samples and 1 feature.\n",
    "\n",
    "* Step 1 :- in this step we are going to decide what is the hypothesis for this function.\n",
    "\n",
    "* Hypothesis is nothing but a function which can approximate the relation between the input and output.\n",
    "\n",
    "* Linear regression is a parametric method, which means it makes an assumption about the form of the function relating X and Y\n",
    "\n",
    "* y = theta1 X + theta0, this equation itself can replesent any line in the co-ordinate axis.\n",
    "\n",
    "* so this is a assumption of the model, we are not talking anything about the theta1, theta0 that is something that we will learn in the training process.\n",
    "\n",
    "* so the hypothesis represents the function that we are going to predict. \n",
    "\n",
    "* h(x) = theta1 x + theta0 --> this is for single feature."
   ]
  },
  {
   "cell_type": "code",
   "execution_count": 8,
   "metadata": {},
   "outputs": [],
   "source": [
    "# the step 2 is to the decide the Loss/Error function.\n",
    "# loss function :- (1/2n) * sum((h(X)-Y)^2)\n",
    "# : - (1/2n) * sumofN((thta1xi + theta0 - yi)^2)  --> i go's from 1 to n."
   ]
  },
  {
   "attachments": {},
   "cell_type": "markdown",
   "metadata": {},
   "source": [
    "Loss/ Error function:- Mean Squared Error.\n",
    "\n",
    "* J = (1/2n) * sumofN((thta1xi + theta0 - yi)^2)  --> i go's from 1 to n.\n",
    "\n",
    "* Better theta --> lower loss --> better the algorithm."
   ]
  },
  {
   "cell_type": "code",
   "execution_count": 9,
   "metadata": {},
   "outputs": [],
   "source": [
    "# But we still need an algorith to reduce the loss.\n",
    "# this is the step 3:- Algorithm for reducing the loss produced by the model, by changing the weights."
   ]
  },
  {
   "cell_type": "code",
   "execution_count": 10,
   "metadata": {},
   "outputs": [],
   "source": [
    "# so the goal of the step 3 is find the parameters that minimize loss, i.e make our model as accurate as possible.\n",
    "# how?"
   ]
  },
  {
   "attachments": {},
   "cell_type": "markdown",
   "metadata": {},
   "source": [
    "Step 3:- \n",
    "\n",
    "* Starting with a random theta.\n",
    "\n",
    "* we need an algorithm that iteratively improves theta by reducing J(theta) in each step and converges eventually to minimum error."
   ]
  },
  {
   "cell_type": "code",
   "execution_count": 11,
   "metadata": {},
   "outputs": [],
   "source": [
    "#Gradient Descent Algorithm. This is a optimization technique. will help you find the minimum value of the curve.\n",
    "# x = x - sigma * df/dx\n",
    "# sigma is a learning rate."
   ]
  },
  {
   "cell_type": "code",
   "execution_count": 12,
   "metadata": {},
   "outputs": [],
   "source": [
    "# lets now find df/dx --> d((1/2n) * sumofN((thta1xi + theta0 - yi)^2))/dtheta1\n",
    "# and d((1/2n) * sumofN((thta1xi + theta0 - yi)^2))/dtheta0"
   ]
  },
  {
   "cell_type": "code",
   "execution_count": 13,
   "metadata": {},
   "outputs": [
    {
     "name": "stdout",
     "output_type": "stream",
     "text": [
      "[0 1 2 3 4 5 6 7 8 9] [28 19 12  7  4  3  4  7 12 19]\n"
     ]
    }
   ],
   "source": [
    "X = np.arange(10)\n",
    "Y = (X-5)**2 + 3\n",
    "\n",
    "print(X,Y)"
   ]
  },
  {
   "cell_type": "code",
   "execution_count": 15,
   "metadata": {},
   "outputs": [
    {
     "name": "stderr",
     "output_type": "stream",
     "text": [
      "/var/folders/21/pdrmwf413hsb017fddtwdvkw0000gn/T/ipykernel_2360/2527360777.py:3: MatplotlibDeprecationWarning: The seaborn styles shipped by Matplotlib are deprecated since 3.6, as they no longer correspond to the styles shipped by seaborn. However, they will remain available as 'seaborn-v0_8-<style>'. Alternatively, directly use the seaborn API instead.\n",
      "  plt.style.use('seaborn')\n"
     ]
    },
    {
     "data": {
      "image/png": "[encoded data removed]",
      "text/plain": [
       "<Figure size 800x550 with 1 Axes>"
      ]
     },
     "metadata": {},
     "output_type": "display_data"
    }
   ],
   "source": [
    "# Visualise\n",
    "\n",
    "plt.style.use('seaborn')\n",
    "plt.plot(X,Y)\n",
    "plt.xlabel('X')\n",
    "plt.ylabel('Y')\n",
    "plt.show()"
   ]
  },
  {
   "cell_type": "code",
   "execution_count": 17,
   "metadata": {},
   "outputs": [
    {
     "name": "stdout",
     "output_type": "stream",
     "text": [
      "1.0\n",
      "1.8\n",
      "2.4400000000000004\n",
      "2.9520000000000004\n",
      "3.3616\n",
      "3.68928\n",
      "3.9514240000000003\n",
      "4.1611392\n",
      "4.32891136\n",
      "4.4631290880000005\n",
      "4.570503270400001\n",
      "4.65640261632\n",
      "4.725122093056\n",
      "4.7800976744448\n",
      "4.82407813955584\n",
      "4.859262511644672\n",
      "4.8874100093157375\n",
      "4.90992800745259\n",
      "4.927942405962073\n",
      "4.942353924769658\n",
      "4.953883139815726\n",
      "4.9631065118525814\n",
      "4.9704852094820655\n",
      "4.976388167585652\n",
      "4.981110534068522\n",
      "4.984888427254818\n",
      "4.987910741803854\n",
      "4.990328593443083\n",
      "4.992262874754466\n",
      "4.993810299803573\n",
      "4.995048239842858\n",
      "4.996038591874287\n",
      "4.996830873499429\n",
      "4.9974646987995435\n",
      "4.997971759039634\n",
      "4.9983774072317075\n",
      "4.998701925785366\n",
      "4.998961540628293\n",
      "4.999169232502634\n",
      "4.999335386002107\n",
      "4.999468308801686\n",
      "4.9995746470413485\n",
      "4.999659717633079\n",
      "4.9997277741064625\n",
      "4.99978221928517\n",
      "4.999825775428136\n",
      "4.999860620342509\n",
      "4.999888496274007\n",
      "4.999910797019206\n",
      "4.999928637615365\n"
     ]
    }
   ],
   "source": [
    "#gradient Decent.\n",
    "# what is the value of the X when the y is minimum. --> derivative of f(x)\n",
    "x = 0 #starting value any random value.\n",
    "\n",
    "lr = 0.1 #learning rate.\n",
    "\n",
    "# x = x - lr(df/dx) (or) theta0 = theta0 - lr(df/dtheta0)\n",
    "\n",
    "looper  = 50 # for 50 steps\n",
    "\n",
    "for i in range(looper):\n",
    "    f = (x-5)**2 + 3\n",
    "    grad = 2*(x-5) #df/dx\n",
    "    x = x - lr*grad\n",
    "    print(x)\n",
    "\n",
    "#at last steps the steps are really smaller. becase the speed of the moving forward is decresed as the slope of the curve id close to zero."
   ]
  },
  {
   "cell_type": "code",
   "execution_count": 19,
   "metadata": {},
   "outputs": [
    {
     "data": {
      "image/png": "[encoded data removed]",
      "text/plain": [
       "<Figure size 800x550 with 1 Axes>"
      ]
     },
     "metadata": {},
     "output_type": "display_data"
    }
   ],
   "source": [
    "x = 0\n",
    "lr = 0.1\n",
    "looper = 50\n",
    "plt.plot(X,Y)\n",
    "for i in range(looper):\n",
    "    grad = 2*(x-5)\n",
    "    x = x - lr*grad\n",
    "    y = (x-5)**2 + 3\n",
    "    plt.scatter(x,y)\n",
    "plt.show()"
   ]
  },
  {
   "cell_type": "code",
   "execution_count": null,
   "metadata": {},
   "outputs": [],
   "source": [
    "# what if the x is something else. it still works that is the beauty of the algorithm.\n",
    "# but how does the lr effects the speed of the convergence?\n",
    "# if the lr is too big, there are the chances that your steps may be overshoot.\n",
    "# if the lr is too small, there is the chances that you may never come to minimum, before the loop ends."
   ]
  },
  {
   "attachments": {},
   "cell_type": "markdown",
   "metadata": {},
   "source": [
    "Effect of lr in the speed of the convergences.\n",
    "\n",
    "\n",
    "\n",
    "\n",
    "\n",
    "\n",
    "\n",
    "\n",
    "\n",
    "* "
   ]
  },
  {
   "cell_type": "code",
   "execution_count": null,
   "metadata": {},
   "outputs": [],
   "source": [
    "#generally the lr will be 0.1 or 0.2"
   ]
  }
 ],
 "metadata": {
  "kernelspec": {
   "display_name": "Python 3",
   "language": "python",
   "name": "python3"
  },
  "language_info": {
   "codemirror_mode": {
    "name": "ipython",
    "version": 3
   },
   "file_extension": ".py",
   "mimetype": "text/x-python",
   "name": "python",
   "nbconvert_exporter": "python",
   "pygments_lexer": "ipython3",
   "version": "3.11.2"
  },
  "orig_nbformat": 4
 },
 "nbformat": 4,
 "nbformat_minor": 2
}
